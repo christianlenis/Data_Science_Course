{
 "cells": [
  {
   "cell_type": "markdown",
   "id": "c2fd851f",
   "metadata": {},
   "source": [
    "# Data Science Tools and Ecosystem"
   ]
  },
  {
   "cell_type": "markdown",
   "id": "ee911304",
   "metadata": {},
   "source": [
    "In this notebook, Data Science Tools and Ecosystem are summarized."
   ]
  },
  {
   "cell_type": "markdown",
   "id": "4befd767",
   "metadata": {},
   "source": [
    "Some of the popular languages that Data Scientists use are:"
   ]
  },
  {
   "cell_type": "markdown",
   "id": "b51da81a",
   "metadata": {},
   "source": [
    "1. Python\n",
    "2. R\n",
    "3. SQL"
   ]
  },
  {
   "cell_type": "markdown",
   "id": "2ba34cdb",
   "metadata": {},
   "source": [
    "Some of the commonly used libraries used by Data Scientists include:"
   ]
  },
  {
   "cell_type": "markdown",
   "id": "1c664595",
   "metadata": {},
   "source": [
    "Python\n",
    "\n",
    "1. Pandas: For data manipulation and analysis.\n",
    "2. NumPy: For numerical computing and array manipulation.\n",
    "3. Matplotlib: For data visualization and plotting.\n",
    "4. Seaborn: For statistical data visualization, built on top of Matplotlib.\n",
    "5. Scikit-learn: For machine learning and data mining.\n",
    "6. TensorFlow: For deep learning and neural networks.\n",
    "7. Keras: A high-level API for neural networks, running on top of TensorFlow.\n",
    "8. SciPy: For scientific and technical computing.\n",
    "9. Statsmodels: For estimating and analyzing statistical models.\n",
    "10. NLTK: For natural language processing.\n",
    "11. PyTorch: For deep learning and neural networks.\n",
    "\n",
    "R\n",
    "\n",
    "1. dplyr: For data manipulation.\n",
    "2. ggplot2: For data visualization.\n",
    "3. tidyr: For data cleaning and reshaping.\n",
    "4. caret: For machine learning.\n",
    "5. shiny: For building interactive web applications.\n",
    "6. data.table: For efficient data manipulation of large datasets.\n",
    "7. plotly: For interactive data visualization.\n",
    "8. lubridate: For working with date and time data.\n",
    "9. randomForest: For machine learning using random forest algorithms.\n",
    "10. xgboost: For machine learning using boosting algorithms.\n",
    "\n",
    "SQL\n",
    "\n",
    "1. SQLite: For lightweight and embedded SQL databases.\n",
    "2. PostgreSQL: For advanced and extensible SQL databases.\n",
    "3. MySQL: For popular and general-purpose SQL databases.\n",
    "4. SQLAlchemy: For ORM (Object-Relational Mapping) in Python."
   ]
  },
  {
   "cell_type": "markdown",
   "id": "c07d5c8c",
   "metadata": {},
   "source": [
    "| Data Science Tools       |\n",
    "|--------------------------|\n",
    "| Jupyter Notebook         |\n",
    "| RStudio                  |\n",
    "| GitHub                   |"
   ]
  },
  {
   "cell_type": "markdown",
   "id": "c6238c41",
   "metadata": {},
   "source": [
    "### Arithmetic Expressions in Jupyter Notebook\n",
    "\n",
    "In this section, we will explore some basic arithmetic expressions that can be evaluated directly within a Jupyter Notebook. Arithmetic expressions involve mathematical operations such as addition, subtraction, multiplication, and division. Below are some examples of these operations.\n",
    "\n",
    "#### Examples:\n",
    "\n",
    "1. **Addition (+)**: This operation adds two numbers.\n",
    "    - Example: `5 + 3 = 8`\n",
    "\n",
    "2. **Subtraction (-)**: This operation subtracts one number from another.\n",
    "    - Example: `10 - 4 = 6`\n",
    "\n",
    "3. **Multiplication (*)**: This operation multiplies two numbers.\n",
    "    - Example: `7 * 6 = 42`\n",
    "\n",
    "4. **Division (/)**: This operation divides one number by another.\n",
    "    - Example: `15 / 3 = 5`\n",
    "\n",
    "5. **Exponentiation (**)**: This operation raises one number to the power of another.\n",
    "    - Example: `2 ** 3 = 8`\n",
    "\n",
    "6. **Modulus (%)**: This operation returns the remainder of the division of one number by another.\n",
    "    - Example: `10 % 3 = 1`"
   ]
  },
  {
   "cell_type": "markdown",
   "id": "70fce453",
   "metadata": {},
   "source": [
    "This a simple arithmetic expression to mutiply then add integers"
   ]
  },
  {
   "cell_type": "code",
   "execution_count": 4,
   "id": "25842ce9",
   "metadata": {},
   "outputs": [
    {
     "data": {
      "text/plain": [
       "17"
      ]
     },
     "execution_count": 4,
     "metadata": {},
     "output_type": "execute_result"
    }
   ],
   "source": [
    "(3*4)+5"
   ]
  },
  {
   "cell_type": "markdown",
   "id": "d79fdcfb",
   "metadata": {},
   "source": [
    " This will convert 200 minutes to hours by diving by 60"
   ]
  },
  {
   "cell_type": "code",
   "execution_count": 5,
   "id": "8ba073e0",
   "metadata": {},
   "outputs": [
    {
     "data": {
      "text/plain": [
       "3.3333333333333335"
      ]
     },
     "execution_count": 5,
     "metadata": {},
     "output_type": "execute_result"
    }
   ],
   "source": [
    "200/60"
   ]
  },
  {
   "cell_type": "markdown",
   "id": "cc19c4c1",
   "metadata": {},
   "source": [
    "**Objectives:**\n",
    "\n",
    "- List popular languages for Data Science\n",
    "- Identify commonly used libraries by Data Scientists\n",
    "- Understand basic arithmetic expressions in Jupyter Notebook\n",
    "- Explore open-source development environments and tools\n",
    "- Demonstrate the use of Markdown for documentation in Jupyter Notebooks"
   ]
  },
  {
   "cell_type": "markdown",
   "id": "00ae9c2e",
   "metadata": {},
   "source": [
    "## Author\n",
    "Christian C. Lenis M."
   ]
  },
  {
   "cell_type": "code",
   "execution_count": null,
   "id": "b80d0981",
   "metadata": {},
   "outputs": [],
   "source": []
  }
 ],
 "metadata": {
  "kernelspec": {
   "display_name": "Python 3 (ipykernel)",
   "language": "python",
   "name": "python3"
  },
  "language_info": {
   "codemirror_mode": {
    "name": "ipython",
    "version": 3
   },
   "file_extension": ".py",
   "mimetype": "text/x-python",
   "name": "python",
   "nbconvert_exporter": "python",
   "pygments_lexer": "ipython3",
   "version": "3.9.18"
  }
 },
 "nbformat": 4,
 "nbformat_minor": 5
}
